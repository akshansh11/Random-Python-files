{
  "nbformat": 4,
  "nbformat_minor": 0,
  "metadata": {
    "colab": {
      "provenance": []
    },
    "kernelspec": {
      "name": "python3",
      "display_name": "Python 3"
    },
    "language_info": {
      "name": "python"
    }
  },
  "cells": [
    {
      "cell_type": "code",
      "execution_count": 1,
      "metadata": {
        "colab": {
          "base_uri": "https://localhost:8080/"
        },
        "id": "BiNrUh938iTc",
        "outputId": "d5ce1e0d-e918-41ea-c1df-87e6218e5ce4"
      },
      "outputs": [
        {
          "output_type": "stream",
          "name": "stdout",
          "text": [
            "Looking in indexes: https://pypi.org/simple, https://us-python.pkg.dev/colab-wheels/public/simple/\n",
            "Collecting pyswarms\n",
            "  Downloading pyswarms-1.3.0-py2.py3-none-any.whl (104 kB)\n",
            "\u001b[2K     \u001b[90m━━━━━━━━━━━━━━━━━━━━━━━━━━━━━━━━━━━━━━━\u001b[0m \u001b[32m104.1/104.1 kB\u001b[0m \u001b[31m4.1 MB/s\u001b[0m eta \u001b[36m0:00:00\u001b[0m\n",
            "\u001b[?25hRequirement already satisfied: scipy in /usr/local/lib/python3.10/dist-packages (from pyswarms) (1.10.1)\n",
            "Requirement already satisfied: numpy in /usr/local/lib/python3.10/dist-packages (from pyswarms) (1.22.4)\n",
            "Requirement already satisfied: matplotlib>=1.3.1 in /usr/local/lib/python3.10/dist-packages (from pyswarms) (3.7.1)\n",
            "Requirement already satisfied: attrs in /usr/local/lib/python3.10/dist-packages (from pyswarms) (23.1.0)\n",
            "Requirement already satisfied: tqdm in /usr/local/lib/python3.10/dist-packages (from pyswarms) (4.65.0)\n",
            "Requirement already satisfied: future in /usr/local/lib/python3.10/dist-packages (from pyswarms) (0.18.3)\n",
            "Requirement already satisfied: pyyaml in /usr/local/lib/python3.10/dist-packages (from pyswarms) (6.0)\n",
            "Requirement already satisfied: contourpy>=1.0.1 in /usr/local/lib/python3.10/dist-packages (from matplotlib>=1.3.1->pyswarms) (1.1.0)\n",
            "Requirement already satisfied: cycler>=0.10 in /usr/local/lib/python3.10/dist-packages (from matplotlib>=1.3.1->pyswarms) (0.11.0)\n",
            "Requirement already satisfied: fonttools>=4.22.0 in /usr/local/lib/python3.10/dist-packages (from matplotlib>=1.3.1->pyswarms) (4.40.0)\n",
            "Requirement already satisfied: kiwisolver>=1.0.1 in /usr/local/lib/python3.10/dist-packages (from matplotlib>=1.3.1->pyswarms) (1.4.4)\n",
            "Requirement already satisfied: packaging>=20.0 in /usr/local/lib/python3.10/dist-packages (from matplotlib>=1.3.1->pyswarms) (23.1)\n",
            "Requirement already satisfied: pillow>=6.2.0 in /usr/local/lib/python3.10/dist-packages (from matplotlib>=1.3.1->pyswarms) (8.4.0)\n",
            "Requirement already satisfied: pyparsing>=2.3.1 in /usr/local/lib/python3.10/dist-packages (from matplotlib>=1.3.1->pyswarms) (3.1.0)\n",
            "Requirement already satisfied: python-dateutil>=2.7 in /usr/local/lib/python3.10/dist-packages (from matplotlib>=1.3.1->pyswarms) (2.8.2)\n",
            "Requirement already satisfied: six>=1.5 in /usr/local/lib/python3.10/dist-packages (from python-dateutil>=2.7->matplotlib>=1.3.1->pyswarms) (1.16.0)\n",
            "Installing collected packages: pyswarms\n",
            "Successfully installed pyswarms-1.3.0\n"
          ]
        }
      ],
      "source": [
        "!pip install pyswarms"
      ]
    },
    {
      "cell_type": "code",
      "source": [
        "\n",
        "import pandas as pd\n",
        "import numpy as np\n",
        "import xgboost as xgb\n",
        "from sklearn.model_selection import train_test_split\n",
        "from sklearn.metrics import mean_squared_error, mean_absolute_error, r2_score\n",
        "from pyswarms.single import GlobalBestPSO\n",
        ""
      ],
      "metadata": {
        "id": "Sxl8Nghg9NjZ"
      },
      "execution_count": 2,
      "outputs": []
    },
    {
      "cell_type": "code",
      "source": [
        "# Load dataset\n",
        "df = pd.read_csv('wearaz.csv')"
      ],
      "metadata": {
        "id": "VwsUEncG9Rl2"
      },
      "execution_count": 3,
      "outputs": []
    },
    {
      "cell_type": "code",
      "source": [
        "\n",
        "X = df.drop('Output', axis = 1).values\n",
        "y = df['Output'].values"
      ],
      "metadata": {
        "id": "Q7vkX_yW9X2-"
      },
      "execution_count": 4,
      "outputs": []
    },
    {
      "cell_type": "code",
      "source": [
        "\n",
        "# Split dataset into train and test sets\n",
        "X_train, X_test, y_train, y_test = train_test_split(X, y, test_size=0.2, random_state=42)"
      ],
      "metadata": {
        "id": "lfjM6bKr9iuu"
      },
      "execution_count": 5,
      "outputs": []
    },
    {
      "cell_type": "code",
      "source": [
        "from sklearn.tree import DecisionTreeRegressor"
      ],
      "metadata": {
        "id": "skVytsFW9lZW"
      },
      "execution_count": 6,
      "outputs": []
    },
    {
      "cell_type": "code",
      "source": [
        "# Define the objective function to optimize the Decision Tree model using PSO\n",
        "def objective_function(params):\n",
        "    n_particles = params.shape[0]\n",
        "    mse_particles = []\n",
        "\n",
        "    for i in range(n_particles):\n",
        "        max_depth, min_samples_split = params[i]\n",
        "\n",
        "        # Set up the Decision Tree model\n",
        "        model = DecisionTreeRegressor(max_depth=int(max_depth),\n",
        "                                      min_samples_split=int(min_samples_split))\n",
        "\n",
        "        # Train the model\n",
        "        model.fit(X_train, y_train)\n",
        "\n",
        "        # Predict the target values\n",
        "        y_pred = model.predict(X_test)\n",
        "\n",
        "        # Calculate MSE\n",
        "        mse = mean_squared_error(y_test, y_pred)\n",
        "        mse_particles.append(mse)\n",
        "\n",
        "    return np.array(mse_particles)"
      ],
      "metadata": {
        "id": "VV-65LIn9oE2"
      },
      "execution_count": 7,
      "outputs": []
    },
    {
      "cell_type": "code",
      "source": [
        "# Define the search space for PSO\n",
        "lower_bounds = np.array([2, 2])\n",
        "upper_bounds = np.array([20, 20])\n",
        "bounds = (lower_bounds, upper_bounds)\n",
        "\n",
        "# Initialize PSO\n",
        "options = {'c1': 0.5, 'c2': 0.3, 'w': 0.9}\n",
        "optimizer = GlobalBestPSO(n_particles=10, dimensions=len(lower_bounds), options=options, bounds=bounds)\n",
        "\n",
        "# Perform optimization\n",
        "cost, pos = optimizer.optimize(objective_function, iters=30)\n",
        "\n",
        "# Train the final Decision Tree model with the best parameters found by PSO\n",
        "best_model = DecisionTreeRegressor(max_depth=int(pos[0]),\n",
        "                                   min_samples_split=int(pos[1]))\n",
        "\n",
        "best_model.fit(X_train, y_train)\n",
        "\n",
        "# Make predictions using the final model\n",
        "y_pred = best_model.predict(X_test)\n",
        "\n",
        "# Calculate the evaluation metrics\n",
        "mse = mean_squared_error(y_test, y_pred)\n",
        "mae = mean_absolute_error(y_test, y_pred)\n",
        "r2 = r2_score(y_test, y_pred)\n",
        "\n",
        "print(f'Mean Squared Error (MSE): {mse}')\n",
        "print(f'Mean Absolute Error (MAE): {mae}')\n",
        "print(f'R-squared (R2): {r2}')\n",
        ""
      ],
      "metadata": {
        "colab": {
          "base_uri": "https://localhost:8080/"
        },
        "id": "AthXvG-C9rTH",
        "outputId": "46a17371-d36c-447f-c3e4-1b525ddcd5d1"
      },
      "execution_count": 8,
      "outputs": [
        {
          "output_type": "stream",
          "name": "stderr",
          "text": [
            "2023-06-24 15:12:44,682 - pyswarms.single.global_best - INFO - Optimize for 30 iters with {'c1': 0.5, 'c2': 0.3, 'w': 0.9}\n",
            "pyswarms.single.global_best: 100%|██████████|30/30, best_cost=3.4e-9\n",
            "2023-06-24 15:12:46,233 - pyswarms.single.global_best - INFO - Optimization finished | best cost: 3.4011864949280325e-09, best pos: [16.68521563  2.40781085]\n"
          ]
        },
        {
          "output_type": "stream",
          "name": "stdout",
          "text": [
            "Mean Squared Error (MSE): 3.642396486845427e-09\n",
            "Mean Absolute Error (MAE): 4.779916974471214e-05\n",
            "R-squared (R2): 0.9994028244069937\n"
          ]
        }
      ]
    }
  ]
}